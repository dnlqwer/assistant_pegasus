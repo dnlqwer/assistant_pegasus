{
 "cells": [
  {
   "cell_type": "code",
   "execution_count": 2,
   "id": "fcaf11d4",
   "metadata": {
    "ExecuteTime": {
     "start_time": "2023-06-08T00:22:00.070578Z",
     "end_time": "2023-06-08T00:22:02.665751Z"
    }
   },
   "outputs": [
    {
     "name": "stdout",
     "output_type": "stream",
     "text": [
      "Directory  C:\\Users\\DaniilAdmin /.deepface created\n",
      "Directory  C:\\Users\\DaniilAdmin /.deepface/weights created\n"
     ]
    }
   ],
   "source": [
    "from PIL import Image as Image\n",
    "import os\n",
    "\n",
    "from os import listdir\n",
    "from keras.models import load_model\n",
    "import numpy as np\n",
    "from numpy import asarray\n",
    "from numpy import expand_dims\n",
    "from deepface import DeepFace\n",
    "import pickle\n",
    "import cv2\n",
    "import json"
   ]
  },
  {
   "cell_type": "code",
   "execution_count": 2,
   "id": "c621bc38",
   "metadata": {},
   "outputs": [],
   "source": [
    "def face_verify(img1, img2):\n",
    "    try:\n",
    "        result = DeepFace.verify(img1_path=img1, img2_path=img2)\n",
    "        \n",
    "        if result.get('verified'):\n",
    "            return \"Пользователь найден\"\n",
    "        return \"Пройдите регистрацию\"\n",
    "        \n",
    "\n",
    "    except Exception as _ex:\n",
    "        return _ex\n"
   ]
  },
  {
   "cell_type": "code",
   "execution_count": 59,
   "id": "fe0c18f1",
   "metadata": {},
   "outputs": [
    {
     "data": {
      "text/plain": [
       "'Пользователь найден'"
      ]
     },
     "execution_count": 59,
     "metadata": {},
     "output_type": "execute_result"
    }
   ],
   "source": []
  },
  {
   "cell_type": "code",
   "execution_count": 3,
   "id": "dd9e843c",
   "metadata": {},
   "outputs": [],
   "source": [
    "def face_from_webcam():\n",
    "   # создаем объект захвата видео\n",
    "    cap = cv2.VideoCapture(0)  \n",
    "\n",
    "    # захватываем кадр\n",
    "    ret, frame = cap.read()\n",
    "\n",
    "    # сохраняем кадр в формате .jpg\n",
    "    cv2.imwrite('frame.jpg', frame)\n",
    "\n",
    "    # освобождаем ресурсы\n",
    "    cap.release()\n",
    "\n",
    "    return frame"
   ]
  },
  {
   "cell_type": "code",
   "execution_count": 1,
   "id": "8c9db90a",
   "metadata": {
    "ExecuteTime": {
     "start_time": "2023-06-08T01:03:33.145684Z",
     "end_time": "2023-06-08T01:03:33.154131Z"
    }
   },
   "outputs": [],
   "source": [
    "def indentity_person():\n",
    "    face_from_webcam()\n",
    "    folder_path = 'D:/Python/PycharmProjects/Pegasus-Voice-Assistant-master-pre-release/plugins/id/data/team/'\n",
    "    \n",
    "    for root, dirs, files in os.walk(folder_path):\n",
    "        for i in range(len(files)):\n",
    "            file_path = os.path.join(root, files[i])\n",
    "            img = cv2.imread(file_path)\n",
    "            result = DeepFace.verify('C:/Users/user/Desktop/CV_6_FaceNet/frame.jpg', img)\n",
    "            if result['verified']:\n",
    "                print(\"Пользователь найден\")\n",
    "                print(file_path)\n",
    "                \n",
    "                "
   ]
  },
  {
   "cell_type": "code",
   "execution_count": 65,
   "id": "9f407fed",
   "metadata": {},
   "outputs": [
    {
     "data": {
      "text/plain": [
       "'Пройдите регистрацию'"
      ]
     },
     "execution_count": 65,
     "metadata": {},
     "output_type": "execute_result"
    }
   ],
   "source": []
  },
  {
   "cell_type": "code",
   "execution_count": 16,
   "id": "cf0f5a7f",
   "metadata": {},
   "outputs": [
    {
     "name": "stdout",
     "output_type": "stream",
     "text": [
      "Пользователь найден\n",
      "C:/Users/user/Desktop/CV_6_FaceNet/data/team/Danil\\Danil.jpg\n"
     ]
    }
   ],
   "source": [
    "indentity_person()"
   ]
  },
  {
   "cell_type": "code",
   "execution_count": 7,
   "id": "bcebba54",
   "metadata": {},
   "outputs": [
    {
     "name": "stdout",
     "output_type": "stream",
     "text": [
      "Anastasia.jpg is identical to the webcam image\n",
      "Anastasia_2.jpg is identical to the webcam image\n",
      "Daniil4.jpg is identical to the webcam image\n"
     ]
    }
   ],
   "source": []
  },
  {
   "cell_type": "code",
   "execution_count": null,
   "id": "1b94ab30",
   "metadata": {},
   "outputs": [],
   "source": []
  }
 ],
 "metadata": {
  "kernelspec": {
   "display_name": "Python 3 (ipykernel)",
   "language": "python",
   "name": "python3"
  },
  "language_info": {
   "codemirror_mode": {
    "name": "ipython",
    "version": 3
   },
   "file_extension": ".py",
   "mimetype": "text/x-python",
   "name": "python",
   "nbconvert_exporter": "python",
   "pygments_lexer": "ipython3",
   "version": "3.8.7"
  }
 },
 "nbformat": 4,
 "nbformat_minor": 5
}
